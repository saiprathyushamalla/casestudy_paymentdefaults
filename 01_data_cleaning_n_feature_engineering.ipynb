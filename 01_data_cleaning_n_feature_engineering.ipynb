{
 "cells": [
  {
   "attachments": {},
   "cell_type": "markdown",
   "metadata": {},
   "source": [
    "# A case study of Payment Defaults\n",
    "A default occurs when a borrower stops making required payment on their debt. As such, they become a liability to the lender and can disrupt their business. Because they are a significant cost factor, they need to be avoided. \n",
    "In this case study, I present an analysis of the payment defaults to identify the key trends that can help our client avoid default-prone customers in the future. I organised my case study as follows:\n",
    "1. Data cleaning\n",
    "2. Feature engineering\n",
    "3. Exploratory Data Analysis\n",
    "4. Predictive modelling\n",
    "5. Conclusions\n",
    "\n",
    "For this case study, I have with me two datasets: **clients.csv** and **payments.csv**. Here is an overview of the data I have:\n",
    "\n",
    "**clients.csv** \n",
    "\n",
    "Here each line represents a unique client and their information.\n",
    "- ClientID : Unique Identifier for the client\n",
    "- Entity Type :  Business type\n",
    "- Entity Year Established : First year the business was open\n",
    "\n",
    " \n",
    "\n",
    "**payments.csv**\n",
    "\n",
    "Here, each line represents a transaction payment for a contract\n",
    "- TransactionID : Primary key / unique identifier for each transaction\n",
    "- ContractID : Identifier for the contract. A single contract will have multiple repayments\n",
    "- ClientID : the client of the contract\n",
    "- TransactionDate : The date of the transaction in EPOCH format. \n",
    "- PaymentAmount : Amount to be repaid\n",
    "- Payment Code : Categorical variable showing if the payment was made (PAYMENT) or not (DEFAULT)\n",
    "\n",
    "In this notebook, I will be cleaning the data. In saying so, I will be addressing the following issues within the data:\n",
    "- Missing values\n",
    "- Duplicate values\n",
    "- Invalid Data\n",
    "- Data formatting and data types\n",
    "\n"
   ]
  },
  {
   "cell_type": "code",
   "execution_count": 55,
   "metadata": {},
   "outputs": [],
   "source": [
    "import pandas as pd\n",
    "import numpy as np"
   ]
  },
  {
   "attachments": {},
   "cell_type": "markdown",
   "metadata": {},
   "source": [
    "# Section 1: Client data"
   ]
  },
  {
   "attachments": {},
   "cell_type": "markdown",
   "metadata": {},
   "source": [
    "First I am reading the clients data into `clients` dataframe using `pd.read_csv`"
   ]
  },
  {
   "cell_type": "code",
   "execution_count": 56,
   "metadata": {},
   "outputs": [
    {
     "data": {
      "text/html": [
       "<div>\n",
       "<style scoped>\n",
       "    .dataframe tbody tr th:only-of-type {\n",
       "        vertical-align: middle;\n",
       "    }\n",
       "\n",
       "    .dataframe tbody tr th {\n",
       "        vertical-align: top;\n",
       "    }\n",
       "\n",
       "    .dataframe thead th {\n",
       "        text-align: right;\n",
       "    }\n",
       "</style>\n",
       "<table border=\"1\" class=\"dataframe\">\n",
       "  <thead>\n",
       "    <tr style=\"text-align: right;\">\n",
       "      <th></th>\n",
       "      <th>client_id</th>\n",
       "      <th>entity_type</th>\n",
       "      <th>entity_year_established</th>\n",
       "    </tr>\n",
       "  </thead>\n",
       "  <tbody>\n",
       "    <tr>\n",
       "      <th>0</th>\n",
       "      <td>786</td>\n",
       "      <td>Australian Private Company</td>\n",
       "      <td>2002</td>\n",
       "    </tr>\n",
       "    <tr>\n",
       "      <th>1</th>\n",
       "      <td>230</td>\n",
       "      <td>Australian Private Company</td>\n",
       "      <td>2008</td>\n",
       "    </tr>\n",
       "    <tr>\n",
       "      <th>2</th>\n",
       "      <td>282</td>\n",
       "      <td>Individual/Sole Trader</td>\n",
       "      <td>2001</td>\n",
       "    </tr>\n",
       "    <tr>\n",
       "      <th>3</th>\n",
       "      <td>447</td>\n",
       "      <td>Australian Private Company</td>\n",
       "      <td>2013</td>\n",
       "    </tr>\n",
       "    <tr>\n",
       "      <th>4</th>\n",
       "      <td>310</td>\n",
       "      <td>Individual/Sole Trader</td>\n",
       "      <td>2015</td>\n",
       "    </tr>\n",
       "  </tbody>\n",
       "</table>\n",
       "</div>"
      ],
      "text/plain": [
       "   client_id                 entity_type  entity_year_established\n",
       "0        786  Australian Private Company                     2002\n",
       "1        230  Australian Private Company                     2008\n",
       "2        282      Individual/Sole Trader                     2001\n",
       "3        447  Australian Private Company                     2013\n",
       "4        310      Individual/Sole Trader                     2015"
      ]
     },
     "execution_count": 56,
     "metadata": {},
     "output_type": "execute_result"
    }
   ],
   "source": [
    "clients = pd.read_csv(\"data/Clients.csv\")\n",
    "clients.head()"
   ]
  },
  {
   "cell_type": "code",
   "execution_count": 57,
   "metadata": {},
   "outputs": [
    {
     "data": {
      "text/plain": [
       "(1287, 3)"
      ]
     },
     "execution_count": 57,
     "metadata": {},
     "output_type": "execute_result"
    }
   ],
   "source": [
    "clients.shape"
   ]
  },
  {
   "cell_type": "markdown",
   "metadata": {},
   "source": [
    "I find that the clients.csv has 1287 rows and 3 columns."
   ]
  },
  {
   "attachments": {},
   "cell_type": "markdown",
   "metadata": {},
   "source": [
    "### 1.1 Check for missing values and data formatting issues\n",
    "\n",
    "I use `.info()` method to check for any missing values in the `clients` dataframe. "
   ]
  },
  {
   "cell_type": "code",
   "execution_count": 58,
   "metadata": {},
   "outputs": [
    {
     "name": "stdout",
     "output_type": "stream",
     "text": [
      "<class 'pandas.core.frame.DataFrame'>\n",
      "RangeIndex: 1287 entries, 0 to 1286\n",
      "Data columns (total 3 columns):\n",
      " #   Column                   Non-Null Count  Dtype \n",
      "---  ------                   --------------  ----- \n",
      " 0   client_id                1287 non-null   int64 \n",
      " 1   entity_type              1287 non-null   object\n",
      " 2   entity_year_established  1287 non-null   int64 \n",
      "dtypes: int64(2), object(1)\n",
      "memory usage: 30.3+ KB\n"
     ]
    }
   ],
   "source": [
    "clients.info()"
   ]
  },
  {
   "attachments": {},
   "cell_type": "markdown",
   "metadata": {},
   "source": [
    "I do not find any missing values found in the `client`. However, I notice that `entity_year_established` is of type int. Although I can convert it to `datetime` format, I choose to keep this column as an `int` so that it is easier to work with."
   ]
  },
  {
   "attachments": {},
   "cell_type": "markdown",
   "metadata": {},
   "source": [
    "### 1.2 Check for duplicate values\n",
    "I then check to see if we have any duplicates in the dataframe. "
   ]
  },
  {
   "cell_type": "code",
   "execution_count": 59,
   "metadata": {},
   "outputs": [
    {
     "data": {
      "text/plain": [
       "1281"
      ]
     },
     "execution_count": 59,
     "metadata": {},
     "output_type": "execute_result"
    }
   ],
   "source": [
    "clients.client_id.nunique()"
   ]
  },
  {
   "attachments": {},
   "cell_type": "markdown",
   "metadata": {},
   "source": [
    "Earlier I noted that the clients dataset has 1287 rows. However, I only find 1281 unique values. So I probe the data for any duplicates. "
   ]
  },
  {
   "cell_type": "code",
   "execution_count": 60,
   "metadata": {},
   "outputs": [
    {
     "data": {
      "text/html": [
       "<div>\n",
       "<style scoped>\n",
       "    .dataframe tbody tr th:only-of-type {\n",
       "        vertical-align: middle;\n",
       "    }\n",
       "\n",
       "    .dataframe tbody tr th {\n",
       "        vertical-align: top;\n",
       "    }\n",
       "\n",
       "    .dataframe thead th {\n",
       "        text-align: right;\n",
       "    }\n",
       "</style>\n",
       "<table border=\"1\" class=\"dataframe\">\n",
       "  <thead>\n",
       "    <tr style=\"text-align: right;\">\n",
       "      <th></th>\n",
       "      <th>client_id</th>\n",
       "      <th>entity_type</th>\n",
       "      <th>entity_year_established</th>\n",
       "    </tr>\n",
       "  </thead>\n",
       "  <tbody>\n",
       "  </tbody>\n",
       "</table>\n",
       "</div>"
      ],
      "text/plain": [
       "Empty DataFrame\n",
       "Columns: [client_id, entity_type, entity_year_established]\n",
       "Index: []"
      ]
     },
     "execution_count": 60,
     "metadata": {},
     "output_type": "execute_result"
    }
   ],
   "source": [
    "clients[clients.duplicated()]"
   ]
  },
  {
   "attachments": {},
   "cell_type": "markdown",
   "metadata": {},
   "source": [
    "I do not find any duplicates in the `clients` dataframe."
   ]
  },
  {
   "attachments": {},
   "cell_type": "markdown",
   "metadata": {},
   "source": [
    "Now, I check for the unique values in each column. "
   ]
  },
  {
   "cell_type": "code",
   "execution_count": 61,
   "metadata": {},
   "outputs": [
    {
     "data": {
      "text/plain": [
       "591     3\n",
       "165     2\n",
       "473     2\n",
       "1262    2\n",
       "797     2\n",
       "       ..\n",
       "281     1\n",
       "122     1\n",
       "1118    1\n",
       "181     1\n",
       "960     1\n",
       "Name: client_id, Length: 1281, dtype: int64"
      ]
     },
     "execution_count": 61,
     "metadata": {},
     "output_type": "execute_result"
    }
   ],
   "source": [
    "clients['client_id'].value_counts()"
   ]
  },
  {
   "attachments": {},
   "cell_type": "markdown",
   "metadata": {},
   "source": [
    "I notice that some client_id occur multiple times but there are no identical rows in the dataset. So I check what is going on with three client_id, 591, 165 and 473."
   ]
  },
  {
   "cell_type": "code",
   "execution_count": 62,
   "metadata": {},
   "outputs": [
    {
     "data": {
      "text/html": [
       "<div>\n",
       "<style scoped>\n",
       "    .dataframe tbody tr th:only-of-type {\n",
       "        vertical-align: middle;\n",
       "    }\n",
       "\n",
       "    .dataframe tbody tr th {\n",
       "        vertical-align: top;\n",
       "    }\n",
       "\n",
       "    .dataframe thead th {\n",
       "        text-align: right;\n",
       "    }\n",
       "</style>\n",
       "<table border=\"1\" class=\"dataframe\">\n",
       "  <thead>\n",
       "    <tr style=\"text-align: right;\">\n",
       "      <th></th>\n",
       "      <th>client_id</th>\n",
       "      <th>entity_type</th>\n",
       "      <th>entity_year_established</th>\n",
       "    </tr>\n",
       "  </thead>\n",
       "  <tbody>\n",
       "    <tr>\n",
       "      <th>401</th>\n",
       "      <td>165</td>\n",
       "      <td>Australian Private Company</td>\n",
       "      <td>2015</td>\n",
       "    </tr>\n",
       "    <tr>\n",
       "      <th>1115</th>\n",
       "      <td>165</td>\n",
       "      <td>Individual/Sole Trader</td>\n",
       "      <td>2006</td>\n",
       "    </tr>\n",
       "    <tr>\n",
       "      <th>332</th>\n",
       "      <td>473</td>\n",
       "      <td>Australian Private Company</td>\n",
       "      <td>2016</td>\n",
       "    </tr>\n",
       "    <tr>\n",
       "      <th>350</th>\n",
       "      <td>473</td>\n",
       "      <td>Individual/Sole Trader</td>\n",
       "      <td>2008</td>\n",
       "    </tr>\n",
       "    <tr>\n",
       "      <th>245</th>\n",
       "      <td>591</td>\n",
       "      <td>Australian Private Company</td>\n",
       "      <td>2013</td>\n",
       "    </tr>\n",
       "    <tr>\n",
       "      <th>306</th>\n",
       "      <td>591</td>\n",
       "      <td>Australian Private Company</td>\n",
       "      <td>2007</td>\n",
       "    </tr>\n",
       "    <tr>\n",
       "      <th>816</th>\n",
       "      <td>591</td>\n",
       "      <td>Australian Private Company</td>\n",
       "      <td>2015</td>\n",
       "    </tr>\n",
       "  </tbody>\n",
       "</table>\n",
       "</div>"
      ],
      "text/plain": [
       "      client_id                 entity_type  entity_year_established\n",
       "401         165  Australian Private Company                     2015\n",
       "1115        165      Individual/Sole Trader                     2006\n",
       "332         473  Australian Private Company                     2016\n",
       "350         473      Individual/Sole Trader                     2008\n",
       "245         591  Australian Private Company                     2013\n",
       "306         591  Australian Private Company                     2007\n",
       "816         591  Australian Private Company                     2015"
      ]
     },
     "execution_count": 62,
     "metadata": {},
     "output_type": "execute_result"
    }
   ],
   "source": [
    "clients[clients.client_id.isin([591, 165, 473])].sort_values(by='client_id')"
   ]
  },
  {
   "attachments": {},
   "cell_type": "markdown",
   "metadata": {},
   "source": [
    "I notice two things in the test sample above. Although the `client_id` is the same, either the `entity_year_established`, `entity_type` or both are different. If there was a way to confirm (e.g., contacting our client, publicly available information about client_id), we can update our clients dataset accordingly. However, I do not have any such way to do so. From my analysis in the next section, I find that I only have payment information from 2017-2018. Under the assumption that a company established in 2000s might change its type and re-establish itself in later years, I remove the duplicate entries by keeping the latest availble `entity_year_established` for each `client_id`. I note here that such a removal will be affecting my results. "
   ]
  },
  {
   "cell_type": "code",
   "execution_count": 63,
   "metadata": {},
   "outputs": [],
   "source": [
    "clients.sort_values(by='entity_year_established', inplace=True)\n",
    "clients.reset_index(drop=True, inplace=True)\n",
    "clients.drop_duplicates(keep='last', subset='client_id', inplace=True)"
   ]
  },
  {
   "cell_type": "code",
   "execution_count": 64,
   "metadata": {},
   "outputs": [
    {
     "data": {
      "text/html": [
       "<div>\n",
       "<style scoped>\n",
       "    .dataframe tbody tr th:only-of-type {\n",
       "        vertical-align: middle;\n",
       "    }\n",
       "\n",
       "    .dataframe tbody tr th {\n",
       "        vertical-align: top;\n",
       "    }\n",
       "\n",
       "    .dataframe thead th {\n",
       "        text-align: right;\n",
       "    }\n",
       "</style>\n",
       "<table border=\"1\" class=\"dataframe\">\n",
       "  <thead>\n",
       "    <tr style=\"text-align: right;\">\n",
       "      <th></th>\n",
       "      <th>client_id</th>\n",
       "      <th>entity_type</th>\n",
       "      <th>entity_year_established</th>\n",
       "    </tr>\n",
       "  </thead>\n",
       "  <tbody>\n",
       "    <tr>\n",
       "      <th>1068</th>\n",
       "      <td>165</td>\n",
       "      <td>Australian Private Company</td>\n",
       "      <td>2015</td>\n",
       "    </tr>\n",
       "    <tr>\n",
       "      <th>1163</th>\n",
       "      <td>473</td>\n",
       "      <td>Australian Private Company</td>\n",
       "      <td>2016</td>\n",
       "    </tr>\n",
       "    <tr>\n",
       "      <th>1112</th>\n",
       "      <td>591</td>\n",
       "      <td>Australian Private Company</td>\n",
       "      <td>2015</td>\n",
       "    </tr>\n",
       "  </tbody>\n",
       "</table>\n",
       "</div>"
      ],
      "text/plain": [
       "      client_id                 entity_type  entity_year_established\n",
       "1068        165  Australian Private Company                     2015\n",
       "1163        473  Australian Private Company                     2016\n",
       "1112        591  Australian Private Company                     2015"
      ]
     },
     "execution_count": 64,
     "metadata": {},
     "output_type": "execute_result"
    }
   ],
   "source": [
    "clients[clients.client_id.isin([591, 165, 473])].sort_values(by='client_id')"
   ]
  },
  {
   "cell_type": "code",
   "execution_count": 65,
   "metadata": {},
   "outputs": [
    {
     "data": {
      "text/plain": [
       "(1281, 3)"
      ]
     },
     "execution_count": 65,
     "metadata": {},
     "output_type": "execute_result"
    }
   ],
   "source": [
    "clients.shape"
   ]
  },
  {
   "cell_type": "markdown",
   "metadata": {},
   "source": [
    "Now we can see that our clients have 1281 rows, that matches with the number of unique `client_id`s obtained earlier in this subsection. "
   ]
  },
  {
   "attachments": {},
   "cell_type": "markdown",
   "metadata": {},
   "source": [
    "I now check for any duplicates in the entity_type, especially the ones with different case or spelling errors. For this, I get the unique values of the entity_types."
   ]
  },
  {
   "cell_type": "code",
   "execution_count": 66,
   "metadata": {},
   "outputs": [
    {
     "data": {
      "text/plain": [
       "['Australian Private Company',\n",
       " 'Australian Proprietary Company',\n",
       " 'Australian Public Company',\n",
       " 'Discretionary Investment Trust',\n",
       " 'Discretionary Trading Trust',\n",
       " 'Family Partnership',\n",
       " 'Fixed Unit Trust',\n",
       " 'Hybrid Trust',\n",
       " 'Individual/Sole Trader',\n",
       " 'Other Partnership']"
      ]
     },
     "execution_count": 66,
     "metadata": {},
     "output_type": "execute_result"
    }
   ],
   "source": [
    "list_of_entities = clients.groupby('entity_type').nunique().index.to_list()\n",
    "list_of_entities"
   ]
  },
  {
   "cell_type": "code",
   "execution_count": 67,
   "metadata": {},
   "outputs": [
    {
     "data": {
      "text/plain": [
       "10"
      ]
     },
     "execution_count": 67,
     "metadata": {},
     "output_type": "execute_result"
    }
   ],
   "source": [
    "len(list_of_entities)"
   ]
  },
  {
   "attachments": {},
   "cell_type": "markdown",
   "metadata": {},
   "source": [
    "Since we only have 10 business types, I can check for case changes and spelling errors by eye. However, I also wrote a program to check for any case changes."
   ]
  },
  {
   "cell_type": "code",
   "execution_count": 68,
   "metadata": {},
   "outputs": [],
   "source": [
    "test_list = []\n",
    "for i in list_of_entities:\n",
    "    if i.lower() not in test_list:\n",
    "        test_list.append(i)\n",
    "    else:\n",
    "        print(i,end=' ')"
   ]
  },
  {
   "attachments": {},
   "cell_type": "markdown",
   "metadata": {},
   "source": [
    "I checked for spelling errors by eye. "
   ]
  },
  {
   "attachments": {},
   "cell_type": "markdown",
   "metadata": {},
   "source": [
    "### 1.3 Invalid data\n",
    "\n",
    "In this subsection, I aim to deal with any form of invalid data. I am going to probe the clients dataset for **Entity_year_established > 2018**. We only have payments information till 2018 so an entity established later than 2018 is not valid. "
   ]
  },
  {
   "cell_type": "code",
   "execution_count": 69,
   "metadata": {},
   "outputs": [
    {
     "data": {
      "text/html": [
       "<div>\n",
       "<style scoped>\n",
       "    .dataframe tbody tr th:only-of-type {\n",
       "        vertical-align: middle;\n",
       "    }\n",
       "\n",
       "    .dataframe tbody tr th {\n",
       "        vertical-align: top;\n",
       "    }\n",
       "\n",
       "    .dataframe thead th {\n",
       "        text-align: right;\n",
       "    }\n",
       "</style>\n",
       "<table border=\"1\" class=\"dataframe\">\n",
       "  <thead>\n",
       "    <tr style=\"text-align: right;\">\n",
       "      <th></th>\n",
       "      <th>client_id</th>\n",
       "      <th>entity_type</th>\n",
       "      <th>entity_year_established</th>\n",
       "    </tr>\n",
       "  </thead>\n",
       "  <tbody>\n",
       "  </tbody>\n",
       "</table>\n",
       "</div>"
      ],
      "text/plain": [
       "Empty DataFrame\n",
       "Columns: [client_id, entity_type, entity_year_established]\n",
       "Index: []"
      ]
     },
     "execution_count": 69,
     "metadata": {},
     "output_type": "execute_result"
    }
   ],
   "source": [
    "clients[clients.entity_year_established > 2018]"
   ]
  },
  {
   "attachments": {},
   "cell_type": "markdown",
   "metadata": {},
   "source": [
    "From the above test, I find that there are no businesses established after 2018. "
   ]
  },
  {
   "attachments": {},
   "cell_type": "markdown",
   "metadata": {},
   "source": [
    "Now that the clients data is cleaned, I will save the cleaned data to a folder."
   ]
  },
  {
   "cell_type": "code",
   "execution_count": 70,
   "metadata": {},
   "outputs": [],
   "source": [
    "clients.to_csv(\"cleaned_data/clients.csv\", index=False)"
   ]
  },
  {
   "attachments": {},
   "cell_type": "markdown",
   "metadata": {},
   "source": [
    "Now I will clean the payments data in a similar manner."
   ]
  },
  {
   "attachments": {},
   "cell_type": "markdown",
   "metadata": {},
   "source": [
    "# Section 2: Payments data"
   ]
  },
  {
   "attachments": {},
   "cell_type": "markdown",
   "metadata": {},
   "source": [
    "First, I load my payments dataset into `payments`"
   ]
  },
  {
   "cell_type": "code",
   "execution_count": 71,
   "metadata": {},
   "outputs": [
    {
     "data": {
      "text/html": [
       "<div>\n",
       "<style scoped>\n",
       "    .dataframe tbody tr th:only-of-type {\n",
       "        vertical-align: middle;\n",
       "    }\n",
       "\n",
       "    .dataframe tbody tr th {\n",
       "        vertical-align: top;\n",
       "    }\n",
       "\n",
       "    .dataframe thead th {\n",
       "        text-align: right;\n",
       "    }\n",
       "</style>\n",
       "<table border=\"1\" class=\"dataframe\">\n",
       "  <thead>\n",
       "    <tr style=\"text-align: right;\">\n",
       "      <th></th>\n",
       "      <th>transaction_id</th>\n",
       "      <th>contract_id</th>\n",
       "      <th>client_id</th>\n",
       "      <th>transaction_date</th>\n",
       "      <th>payment_amt</th>\n",
       "      <th>payment_code</th>\n",
       "    </tr>\n",
       "  </thead>\n",
       "  <tbody>\n",
       "    <tr>\n",
       "      <th>0</th>\n",
       "      <td>20175</td>\n",
       "      <td>927</td>\n",
       "      <td>1</td>\n",
       "      <td>1527012511</td>\n",
       "      <td>66.66</td>\n",
       "      <td>PAYMENT</td>\n",
       "    </tr>\n",
       "    <tr>\n",
       "      <th>1</th>\n",
       "      <td>8485</td>\n",
       "      <td>927</td>\n",
       "      <td>1</td>\n",
       "      <td>1511716095</td>\n",
       "      <td>66.66</td>\n",
       "      <td>PAYMENT</td>\n",
       "    </tr>\n",
       "    <tr>\n",
       "      <th>2</th>\n",
       "      <td>13778</td>\n",
       "      <td>927</td>\n",
       "      <td>1</td>\n",
       "      <td>1519319303</td>\n",
       "      <td>66.66</td>\n",
       "      <td>PAYMENT</td>\n",
       "    </tr>\n",
       "    <tr>\n",
       "      <th>3</th>\n",
       "      <td>22768</td>\n",
       "      <td>927</td>\n",
       "      <td>1</td>\n",
       "      <td>1529863724</td>\n",
       "      <td>66.66</td>\n",
       "      <td>PAYMENT</td>\n",
       "    </tr>\n",
       "    <tr>\n",
       "      <th>4</th>\n",
       "      <td>15698</td>\n",
       "      <td>927</td>\n",
       "      <td>1</td>\n",
       "      <td>1521738504</td>\n",
       "      <td>66.66</td>\n",
       "      <td>PAYMENT</td>\n",
       "    </tr>\n",
       "  </tbody>\n",
       "</table>\n",
       "</div>"
      ],
      "text/plain": [
       "   transaction_id  contract_id  client_id  transaction_date  payment_amt  \\\n",
       "0           20175          927          1        1527012511        66.66   \n",
       "1            8485          927          1        1511716095        66.66   \n",
       "2           13778          927          1        1519319303        66.66   \n",
       "3           22768          927          1        1529863724        66.66   \n",
       "4           15698          927          1        1521738504        66.66   \n",
       "\n",
       "  payment_code  \n",
       "0      PAYMENT  \n",
       "1      PAYMENT  \n",
       "2      PAYMENT  \n",
       "3      PAYMENT  \n",
       "4      PAYMENT  "
      ]
     },
     "execution_count": 71,
     "metadata": {},
     "output_type": "execute_result"
    }
   ],
   "source": [
    "payments = pd.read_csv(\"data/Payments.csv\")\n",
    "payments.head()"
   ]
  },
  {
   "attachments": {},
   "cell_type": "markdown",
   "metadata": {},
   "source": [
    "### 2.1 Missing values and data formatting issues"
   ]
  },
  {
   "cell_type": "code",
   "execution_count": 72,
   "metadata": {},
   "outputs": [
    {
     "name": "stdout",
     "output_type": "stream",
     "text": [
      "<class 'pandas.core.frame.DataFrame'>\n",
      "RangeIndex: 25559 entries, 0 to 25558\n",
      "Data columns (total 6 columns):\n",
      " #   Column            Non-Null Count  Dtype  \n",
      "---  ------            --------------  -----  \n",
      " 0   transaction_id    25559 non-null  int64  \n",
      " 1   contract_id       25559 non-null  int64  \n",
      " 2   client_id         25559 non-null  int64  \n",
      " 3   transaction_date  25559 non-null  int64  \n",
      " 4   payment_amt       25559 non-null  float64\n",
      " 5   payment_code      25559 non-null  object \n",
      "dtypes: float64(1), int64(4), object(1)\n",
      "memory usage: 1.2+ MB\n"
     ]
    }
   ],
   "source": [
    "payments.info()"
   ]
  },
  {
   "attachments": {},
   "cell_type": "markdown",
   "metadata": {},
   "source": [
    "For the dataframe information, we can see that there is no missing data for payments dataset. \n",
    "\n",
    "Transaction date is in EPOCH format. I now will convert it to a timestamp. "
   ]
  },
  {
   "cell_type": "code",
   "execution_count": 73,
   "metadata": {},
   "outputs": [
    {
     "data": {
      "text/html": [
       "<div>\n",
       "<style scoped>\n",
       "    .dataframe tbody tr th:only-of-type {\n",
       "        vertical-align: middle;\n",
       "    }\n",
       "\n",
       "    .dataframe tbody tr th {\n",
       "        vertical-align: top;\n",
       "    }\n",
       "\n",
       "    .dataframe thead th {\n",
       "        text-align: right;\n",
       "    }\n",
       "</style>\n",
       "<table border=\"1\" class=\"dataframe\">\n",
       "  <thead>\n",
       "    <tr style=\"text-align: right;\">\n",
       "      <th></th>\n",
       "      <th>transaction_id</th>\n",
       "      <th>contract_id</th>\n",
       "      <th>client_id</th>\n",
       "      <th>transaction_date</th>\n",
       "      <th>payment_amt</th>\n",
       "      <th>payment_code</th>\n",
       "      <th>transaction_date_dt</th>\n",
       "    </tr>\n",
       "  </thead>\n",
       "  <tbody>\n",
       "    <tr>\n",
       "      <th>0</th>\n",
       "      <td>20175</td>\n",
       "      <td>927</td>\n",
       "      <td>1</td>\n",
       "      <td>1527012511</td>\n",
       "      <td>66.66</td>\n",
       "      <td>PAYMENT</td>\n",
       "      <td>2018-05-22 18:08:31</td>\n",
       "    </tr>\n",
       "    <tr>\n",
       "      <th>1</th>\n",
       "      <td>8485</td>\n",
       "      <td>927</td>\n",
       "      <td>1</td>\n",
       "      <td>1511716095</td>\n",
       "      <td>66.66</td>\n",
       "      <td>PAYMENT</td>\n",
       "      <td>2017-11-26 17:08:15</td>\n",
       "    </tr>\n",
       "    <tr>\n",
       "      <th>2</th>\n",
       "      <td>13778</td>\n",
       "      <td>927</td>\n",
       "      <td>1</td>\n",
       "      <td>1519319303</td>\n",
       "      <td>66.66</td>\n",
       "      <td>PAYMENT</td>\n",
       "      <td>2018-02-22 17:08:23</td>\n",
       "    </tr>\n",
       "    <tr>\n",
       "      <th>3</th>\n",
       "      <td>22768</td>\n",
       "      <td>927</td>\n",
       "      <td>1</td>\n",
       "      <td>1529863724</td>\n",
       "      <td>66.66</td>\n",
       "      <td>PAYMENT</td>\n",
       "      <td>2018-06-24 18:08:44</td>\n",
       "    </tr>\n",
       "    <tr>\n",
       "      <th>4</th>\n",
       "      <td>15698</td>\n",
       "      <td>927</td>\n",
       "      <td>1</td>\n",
       "      <td>1521738504</td>\n",
       "      <td>66.66</td>\n",
       "      <td>PAYMENT</td>\n",
       "      <td>2018-03-22 17:08:24</td>\n",
       "    </tr>\n",
       "  </tbody>\n",
       "</table>\n",
       "</div>"
      ],
      "text/plain": [
       "   transaction_id  contract_id  client_id  transaction_date  payment_amt  \\\n",
       "0           20175          927          1        1527012511        66.66   \n",
       "1            8485          927          1        1511716095        66.66   \n",
       "2           13778          927          1        1519319303        66.66   \n",
       "3           22768          927          1        1529863724        66.66   \n",
       "4           15698          927          1        1521738504        66.66   \n",
       "\n",
       "  payment_code transaction_date_dt  \n",
       "0      PAYMENT 2018-05-22 18:08:31  \n",
       "1      PAYMENT 2017-11-26 17:08:15  \n",
       "2      PAYMENT 2018-02-22 17:08:23  \n",
       "3      PAYMENT 2018-06-24 18:08:44  \n",
       "4      PAYMENT 2018-03-22 17:08:24  "
      ]
     },
     "execution_count": 73,
     "metadata": {},
     "output_type": "execute_result"
    }
   ],
   "source": [
    "payments['transaction_date_dt'] = pd.to_datetime(payments['transaction_date'], unit='s')#.strftime('%Y-%m-%d')\n",
    "payments.head()"
   ]
  },
  {
   "cell_type": "code",
   "execution_count": 74,
   "metadata": {},
   "outputs": [
    {
     "data": {
      "text/plain": [
       "2018    15109\n",
       "2017    10450\n",
       "Name: transaction_date_dt, dtype: int64"
      ]
     },
     "execution_count": 74,
     "metadata": {},
     "output_type": "execute_result"
    }
   ],
   "source": [
    "payments.transaction_date_dt.dt.year.value_counts()"
   ]
  },
  {
   "attachments": {},
   "cell_type": "markdown",
   "metadata": {},
   "source": [
    "I find that only the transactions in the years 2017-2018 are reported in the payments data. "
   ]
  },
  {
   "attachments": {},
   "cell_type": "markdown",
   "metadata": {},
   "source": [
    "Now I convert the payment_code to a string object."
   ]
  },
  {
   "cell_type": "code",
   "execution_count": 75,
   "metadata": {},
   "outputs": [
    {
     "data": {
      "text/html": [
       "<div>\n",
       "<style scoped>\n",
       "    .dataframe tbody tr th:only-of-type {\n",
       "        vertical-align: middle;\n",
       "    }\n",
       "\n",
       "    .dataframe tbody tr th {\n",
       "        vertical-align: top;\n",
       "    }\n",
       "\n",
       "    .dataframe thead th {\n",
       "        text-align: right;\n",
       "    }\n",
       "</style>\n",
       "<table border=\"1\" class=\"dataframe\">\n",
       "  <thead>\n",
       "    <tr style=\"text-align: right;\">\n",
       "      <th></th>\n",
       "      <th>transaction_id</th>\n",
       "      <th>contract_id</th>\n",
       "      <th>client_id</th>\n",
       "      <th>transaction_date</th>\n",
       "      <th>payment_amt</th>\n",
       "      <th>payment_code</th>\n",
       "      <th>transaction_date_dt</th>\n",
       "    </tr>\n",
       "  </thead>\n",
       "  <tbody>\n",
       "    <tr>\n",
       "      <th>0</th>\n",
       "      <td>20175</td>\n",
       "      <td>927</td>\n",
       "      <td>1</td>\n",
       "      <td>1527012511</td>\n",
       "      <td>66.66</td>\n",
       "      <td>PAYMENT</td>\n",
       "      <td>2018-05-22 18:08:31</td>\n",
       "    </tr>\n",
       "    <tr>\n",
       "      <th>1</th>\n",
       "      <td>8485</td>\n",
       "      <td>927</td>\n",
       "      <td>1</td>\n",
       "      <td>1511716095</td>\n",
       "      <td>66.66</td>\n",
       "      <td>PAYMENT</td>\n",
       "      <td>2017-11-26 17:08:15</td>\n",
       "    </tr>\n",
       "    <tr>\n",
       "      <th>2</th>\n",
       "      <td>13778</td>\n",
       "      <td>927</td>\n",
       "      <td>1</td>\n",
       "      <td>1519319303</td>\n",
       "      <td>66.66</td>\n",
       "      <td>PAYMENT</td>\n",
       "      <td>2018-02-22 17:08:23</td>\n",
       "    </tr>\n",
       "    <tr>\n",
       "      <th>3</th>\n",
       "      <td>22768</td>\n",
       "      <td>927</td>\n",
       "      <td>1</td>\n",
       "      <td>1529863724</td>\n",
       "      <td>66.66</td>\n",
       "      <td>PAYMENT</td>\n",
       "      <td>2018-06-24 18:08:44</td>\n",
       "    </tr>\n",
       "    <tr>\n",
       "      <th>4</th>\n",
       "      <td>15698</td>\n",
       "      <td>927</td>\n",
       "      <td>1</td>\n",
       "      <td>1521738504</td>\n",
       "      <td>66.66</td>\n",
       "      <td>PAYMENT</td>\n",
       "      <td>2018-03-22 17:08:24</td>\n",
       "    </tr>\n",
       "  </tbody>\n",
       "</table>\n",
       "</div>"
      ],
      "text/plain": [
       "   transaction_id  contract_id  client_id  transaction_date  payment_amt  \\\n",
       "0           20175          927          1        1527012511        66.66   \n",
       "1            8485          927          1        1511716095        66.66   \n",
       "2           13778          927          1        1519319303        66.66   \n",
       "3           22768          927          1        1529863724        66.66   \n",
       "4           15698          927          1        1521738504        66.66   \n",
       "\n",
       "  payment_code transaction_date_dt  \n",
       "0      PAYMENT 2018-05-22 18:08:31  \n",
       "1      PAYMENT 2017-11-26 17:08:15  \n",
       "2      PAYMENT 2018-02-22 17:08:23  \n",
       "3      PAYMENT 2018-06-24 18:08:44  \n",
       "4      PAYMENT 2018-03-22 17:08:24  "
      ]
     },
     "execution_count": 75,
     "metadata": {},
     "output_type": "execute_result"
    }
   ],
   "source": [
    "payments['payment_code'] = payments['payment_code'].astype(str)\n",
    "payments.head()"
   ]
  },
  {
   "attachments": {},
   "cell_type": "markdown",
   "metadata": {},
   "source": [
    "### 2.2 Invalid data"
   ]
  },
  {
   "attachments": {},
   "cell_type": "markdown",
   "metadata": {},
   "source": [
    "Then I check if the values in payment_code and see if there are any unknown values. "
   ]
  },
  {
   "cell_type": "code",
   "execution_count": 76,
   "metadata": {},
   "outputs": [
    {
     "data": {
      "text/plain": [
       "payment_code\n",
       "DEFAULT     2219\n",
       "PAYMENT    23340\n",
       "Name: client_id, dtype: int64"
      ]
     },
     "execution_count": 76,
     "metadata": {},
     "output_type": "execute_result"
    }
   ],
   "source": [
    "payments.groupby('payment_code').client_id.count()"
   ]
  },
  {
   "attachments": {},
   "cell_type": "markdown",
   "metadata": {},
   "source": [
    "I check below if there are any clients in payments who are not in our clients dataset."
   ]
  },
  {
   "cell_type": "code",
   "execution_count": 77,
   "metadata": {},
   "outputs": [
    {
     "data": {
      "text/html": [
       "<div>\n",
       "<style scoped>\n",
       "    .dataframe tbody tr th:only-of-type {\n",
       "        vertical-align: middle;\n",
       "    }\n",
       "\n",
       "    .dataframe tbody tr th {\n",
       "        vertical-align: top;\n",
       "    }\n",
       "\n",
       "    .dataframe thead th {\n",
       "        text-align: right;\n",
       "    }\n",
       "</style>\n",
       "<table border=\"1\" class=\"dataframe\">\n",
       "  <thead>\n",
       "    <tr style=\"text-align: right;\">\n",
       "      <th></th>\n",
       "      <th>transaction_id</th>\n",
       "      <th>contract_id</th>\n",
       "      <th>client_id</th>\n",
       "      <th>transaction_date</th>\n",
       "      <th>payment_amt</th>\n",
       "      <th>payment_code</th>\n",
       "      <th>transaction_date_dt</th>\n",
       "    </tr>\n",
       "  </thead>\n",
       "  <tbody>\n",
       "  </tbody>\n",
       "</table>\n",
       "</div>"
      ],
      "text/plain": [
       "Empty DataFrame\n",
       "Columns: [transaction_id, contract_id, client_id, transaction_date, payment_amt, payment_code, transaction_date_dt]\n",
       "Index: []"
      ]
     },
     "execution_count": 77,
     "metadata": {},
     "output_type": "execute_result"
    }
   ],
   "source": [
    "payments[~payments['client_id'].isin(clients['client_id'])]"
   ]
  },
  {
   "attachments": {},
   "cell_type": "markdown",
   "metadata": {},
   "source": [
    "For the numerical columns, I check the statistical summary to find any invalid values. "
   ]
  },
  {
   "cell_type": "code",
   "execution_count": 78,
   "metadata": {},
   "outputs": [
    {
     "data": {
      "text/html": [
       "<div>\n",
       "<style scoped>\n",
       "    .dataframe tbody tr th:only-of-type {\n",
       "        vertical-align: middle;\n",
       "    }\n",
       "\n",
       "    .dataframe tbody tr th {\n",
       "        vertical-align: top;\n",
       "    }\n",
       "\n",
       "    .dataframe thead th {\n",
       "        text-align: right;\n",
       "    }\n",
       "</style>\n",
       "<table border=\"1\" class=\"dataframe\">\n",
       "  <thead>\n",
       "    <tr style=\"text-align: right;\">\n",
       "      <th></th>\n",
       "      <th>transaction_id</th>\n",
       "      <th>contract_id</th>\n",
       "      <th>client_id</th>\n",
       "      <th>transaction_date</th>\n",
       "      <th>payment_amt</th>\n",
       "    </tr>\n",
       "  </thead>\n",
       "  <tbody>\n",
       "    <tr>\n",
       "      <th>count</th>\n",
       "      <td>25559.000000</td>\n",
       "      <td>25559.000000</td>\n",
       "      <td>25559.000000</td>\n",
       "      <td>2.555900e+04</td>\n",
       "      <td>25559.000000</td>\n",
       "    </tr>\n",
       "    <tr>\n",
       "      <th>mean</th>\n",
       "      <td>12780.000000</td>\n",
       "      <td>758.221409</td>\n",
       "      <td>602.886811</td>\n",
       "      <td>1.517126e+09</td>\n",
       "      <td>1221.455691</td>\n",
       "    </tr>\n",
       "    <tr>\n",
       "      <th>std</th>\n",
       "      <td>7378.392101</td>\n",
       "      <td>352.190207</td>\n",
       "      <td>344.782295</td>\n",
       "      <td>9.964331e+06</td>\n",
       "      <td>4346.049363</td>\n",
       "    </tr>\n",
       "    <tr>\n",
       "      <th>min</th>\n",
       "      <td>1.000000</td>\n",
       "      <td>1.000000</td>\n",
       "      <td>1.000000</td>\n",
       "      <td>1.499019e+09</td>\n",
       "      <td>-136.660000</td>\n",
       "    </tr>\n",
       "    <tr>\n",
       "      <th>25%</th>\n",
       "      <td>6390.500000</td>\n",
       "      <td>510.000000</td>\n",
       "      <td>308.000000</td>\n",
       "      <td>1.508433e+09</td>\n",
       "      <td>93.330000</td>\n",
       "    </tr>\n",
       "    <tr>\n",
       "      <th>50%</th>\n",
       "      <td>12780.000000</td>\n",
       "      <td>732.000000</td>\n",
       "      <td>593.000000</td>\n",
       "      <td>1.518110e+09</td>\n",
       "      <td>266.660000</td>\n",
       "    </tr>\n",
       "    <tr>\n",
       "      <th>75%</th>\n",
       "      <td>19169.500000</td>\n",
       "      <td>991.000000</td>\n",
       "      <td>894.000000</td>\n",
       "      <td>1.525976e+09</td>\n",
       "      <td>833.330000</td>\n",
       "    </tr>\n",
       "    <tr>\n",
       "      <th>max</th>\n",
       "      <td>25559.000000</td>\n",
       "      <td>1643.000000</td>\n",
       "      <td>1281.000000</td>\n",
       "      <td>1.532456e+09</td>\n",
       "      <td>200000.050000</td>\n",
       "    </tr>\n",
       "  </tbody>\n",
       "</table>\n",
       "</div>"
      ],
      "text/plain": [
       "       transaction_id   contract_id     client_id  transaction_date  \\\n",
       "count    25559.000000  25559.000000  25559.000000      2.555900e+04   \n",
       "mean     12780.000000    758.221409    602.886811      1.517126e+09   \n",
       "std       7378.392101    352.190207    344.782295      9.964331e+06   \n",
       "min          1.000000      1.000000      1.000000      1.499019e+09   \n",
       "25%       6390.500000    510.000000    308.000000      1.508433e+09   \n",
       "50%      12780.000000    732.000000    593.000000      1.518110e+09   \n",
       "75%      19169.500000    991.000000    894.000000      1.525976e+09   \n",
       "max      25559.000000   1643.000000   1281.000000      1.532456e+09   \n",
       "\n",
       "         payment_amt  \n",
       "count   25559.000000  \n",
       "mean     1221.455691  \n",
       "std      4346.049363  \n",
       "min      -136.660000  \n",
       "25%        93.330000  \n",
       "50%       266.660000  \n",
       "75%       833.330000  \n",
       "max    200000.050000  "
      ]
     },
     "execution_count": 78,
     "metadata": {},
     "output_type": "execute_result"
    }
   ],
   "source": [
    "payments.describe()"
   ]
  },
  {
   "cell_type": "markdown",
   "metadata": {},
   "source": [
    "First thing, I notice is the presence of negative values in `payment_amt`. A negative payment amount can mean that our client owes the business. In this case, the client is overpaying so this information does not contribute to payment defaults. We can treat this issue in two ways: \n",
    "1. We can set the negative `payment_amt`values to 0 \n",
    "2. We can drop these rows. \n",
    "Setting the `payment_amt` values to zero can affect our future analysis, especially when we compute mean. So, I chose to drop the rows with `payment_amt` < 0. "
   ]
  },
  {
   "cell_type": "code",
   "execution_count": 79,
   "metadata": {},
   "outputs": [],
   "source": [
    "payments.drop(payments[payments['payment_amt']<0].index, inplace=True)#payments[payments['payment_amt']==0]"
   ]
  },
  {
   "cell_type": "code",
   "execution_count": 80,
   "metadata": {},
   "outputs": [
    {
     "data": {
      "text/html": [
       "<div>\n",
       "<style scoped>\n",
       "    .dataframe tbody tr th:only-of-type {\n",
       "        vertical-align: middle;\n",
       "    }\n",
       "\n",
       "    .dataframe tbody tr th {\n",
       "        vertical-align: top;\n",
       "    }\n",
       "\n",
       "    .dataframe thead th {\n",
       "        text-align: right;\n",
       "    }\n",
       "</style>\n",
       "<table border=\"1\" class=\"dataframe\">\n",
       "  <thead>\n",
       "    <tr style=\"text-align: right;\">\n",
       "      <th></th>\n",
       "      <th>transaction_id</th>\n",
       "      <th>contract_id</th>\n",
       "      <th>client_id</th>\n",
       "      <th>transaction_date</th>\n",
       "      <th>payment_amt</th>\n",
       "    </tr>\n",
       "  </thead>\n",
       "  <tbody>\n",
       "    <tr>\n",
       "      <th>count</th>\n",
       "      <td>25557.000000</td>\n",
       "      <td>25557.000000</td>\n",
       "      <td>25557.000000</td>\n",
       "      <td>2.555700e+04</td>\n",
       "      <td>25557.000000</td>\n",
       "    </tr>\n",
       "    <tr>\n",
       "      <th>mean</th>\n",
       "      <td>12779.636734</td>\n",
       "      <td>758.241030</td>\n",
       "      <td>602.887193</td>\n",
       "      <td>1.517125e+09</td>\n",
       "      <td>1221.558777</td>\n",
       "    </tr>\n",
       "    <tr>\n",
       "      <th>std</th>\n",
       "      <td>7378.559491</td>\n",
       "      <td>352.196648</td>\n",
       "      <td>344.782741</td>\n",
       "      <td>9.964524e+06</td>\n",
       "      <td>4346.203781</td>\n",
       "    </tr>\n",
       "    <tr>\n",
       "      <th>min</th>\n",
       "      <td>1.000000</td>\n",
       "      <td>1.000000</td>\n",
       "      <td>1.000000</td>\n",
       "      <td>1.499019e+09</td>\n",
       "      <td>0.010000</td>\n",
       "    </tr>\n",
       "    <tr>\n",
       "      <th>25%</th>\n",
       "      <td>6390.000000</td>\n",
       "      <td>510.000000</td>\n",
       "      <td>308.000000</td>\n",
       "      <td>1.508433e+09</td>\n",
       "      <td>93.330000</td>\n",
       "    </tr>\n",
       "    <tr>\n",
       "      <th>50%</th>\n",
       "      <td>12779.000000</td>\n",
       "      <td>732.000000</td>\n",
       "      <td>593.000000</td>\n",
       "      <td>1.518110e+09</td>\n",
       "      <td>266.660000</td>\n",
       "    </tr>\n",
       "    <tr>\n",
       "      <th>75%</th>\n",
       "      <td>19170.000000</td>\n",
       "      <td>991.000000</td>\n",
       "      <td>894.000000</td>\n",
       "      <td>1.525976e+09</td>\n",
       "      <td>833.330000</td>\n",
       "    </tr>\n",
       "    <tr>\n",
       "      <th>max</th>\n",
       "      <td>25559.000000</td>\n",
       "      <td>1643.000000</td>\n",
       "      <td>1281.000000</td>\n",
       "      <td>1.532456e+09</td>\n",
       "      <td>200000.050000</td>\n",
       "    </tr>\n",
       "  </tbody>\n",
       "</table>\n",
       "</div>"
      ],
      "text/plain": [
       "       transaction_id   contract_id     client_id  transaction_date  \\\n",
       "count    25557.000000  25557.000000  25557.000000      2.555700e+04   \n",
       "mean     12779.636734    758.241030    602.887193      1.517125e+09   \n",
       "std       7378.559491    352.196648    344.782741      9.964524e+06   \n",
       "min          1.000000      1.000000      1.000000      1.499019e+09   \n",
       "25%       6390.000000    510.000000    308.000000      1.508433e+09   \n",
       "50%      12779.000000    732.000000    593.000000      1.518110e+09   \n",
       "75%      19170.000000    991.000000    894.000000      1.525976e+09   \n",
       "max      25559.000000   1643.000000   1281.000000      1.532456e+09   \n",
       "\n",
       "         payment_amt  \n",
       "count   25557.000000  \n",
       "mean     1221.558777  \n",
       "std      4346.203781  \n",
       "min         0.010000  \n",
       "25%        93.330000  \n",
       "50%       266.660000  \n",
       "75%       833.330000  \n",
       "max    200000.050000  "
      ]
     },
     "execution_count": 80,
     "metadata": {},
     "output_type": "execute_result"
    }
   ],
   "source": [
    "payments.describe()"
   ]
  },
  {
   "attachments": {},
   "cell_type": "markdown",
   "metadata": {},
   "source": [
    "As one can see, we removed the rows with negative payment_amt."
   ]
  },
  {
   "attachments": {},
   "cell_type": "markdown",
   "metadata": {},
   "source": [
    "### 2.3 Duplicate values"
   ]
  },
  {
   "attachments": {},
   "cell_type": "markdown",
   "metadata": {},
   "source": [
    "Now I check for duplicates in the payments data. I will check for duplicates transaction_id. One client may make multiple repayments under the same contract so I expect to find duplicates under client_id and contract_id. However, I expect the transaction_id to be unique. "
   ]
  },
  {
   "cell_type": "code",
   "execution_count": 81,
   "metadata": {},
   "outputs": [
    {
     "data": {
      "text/plain": [
       "(25557, 7)"
      ]
     },
     "execution_count": 81,
     "metadata": {},
     "output_type": "execute_result"
    }
   ],
   "source": [
    "payments.shape"
   ]
  },
  {
   "cell_type": "code",
   "execution_count": 82,
   "metadata": {},
   "outputs": [
    {
     "data": {
      "text/plain": [
       "25557"
      ]
     },
     "execution_count": 82,
     "metadata": {},
     "output_type": "execute_result"
    }
   ],
   "source": [
    "payments.transaction_id.nunique()"
   ]
  },
  {
   "attachments": {},
   "cell_type": "markdown",
   "metadata": {},
   "source": [
    "I find that there are 25557 transactions in payments data and each transaction is unique."
   ]
  },
  {
   "cell_type": "code",
   "execution_count": 83,
   "metadata": {},
   "outputs": [
    {
     "data": {
      "text/plain": [
       "1281"
      ]
     },
     "execution_count": 83,
     "metadata": {},
     "output_type": "execute_result"
    }
   ],
   "source": [
    "payments.client_id.nunique()"
   ]
  },
  {
   "attachments": {},
   "cell_type": "markdown",
   "metadata": {},
   "source": [
    "I find 1281 unique clients in payments data. This number matches with the number of unique clients from the clients dataset. "
   ]
  },
  {
   "cell_type": "code",
   "execution_count": 84,
   "metadata": {},
   "outputs": [
    {
     "data": {
      "text/plain": [
       "client_id\n",
       "134       1\n",
       "387       1\n",
       "1281      2\n",
       "757       2\n",
       "762       2\n",
       "       ... \n",
       "1128     78\n",
       "777      79\n",
       "1124     81\n",
       "859      92\n",
       "413     105\n",
       "Name: transaction_id, Length: 1281, dtype: int64"
      ]
     },
     "execution_count": 84,
     "metadata": {},
     "output_type": "execute_result"
    }
   ],
   "source": [
    "payments.groupby('client_id').transaction_id.count().sort_values()"
   ]
  },
  {
   "attachments": {},
   "cell_type": "markdown",
   "metadata": {},
   "source": [
    "As per our expectations, we find that the client_ids are not unique. I note that each client makes atleast one transaction. Now, I check the contract_id."
   ]
  },
  {
   "cell_type": "code",
   "execution_count": 85,
   "metadata": {},
   "outputs": [
    {
     "data": {
      "text/plain": [
       "1643"
      ]
     },
     "execution_count": 85,
     "metadata": {},
     "output_type": "execute_result"
    }
   ],
   "source": [
    "payments.contract_id.nunique()"
   ]
  },
  {
   "cell_type": "code",
   "execution_count": 86,
   "metadata": {},
   "outputs": [
    {
     "data": {
      "text/plain": [
       "contract_id\n",
       "4         1\n",
       "8         1\n",
       "1643      2\n",
       "85        2\n",
       "84        2\n",
       "       ... \n",
       "526      76\n",
       "701      77\n",
       "613      79\n",
       "649      84\n",
       "866     105\n",
       "Name: transaction_id, Length: 1643, dtype: int64"
      ]
     },
     "execution_count": 86,
     "metadata": {},
     "output_type": "execute_result"
    }
   ],
   "source": [
    "payments.groupby('contract_id').transaction_id.count().sort_values()"
   ]
  },
  {
   "attachments": {},
   "cell_type": "markdown",
   "metadata": {},
   "source": [
    "There are 1643 unique contracts in our dataset. Similar to client_id, each contract_id had atleast one transaction."
   ]
  },
  {
   "attachments": {},
   "cell_type": "markdown",
   "metadata": {},
   "source": [
    "### 2.4 Dropping some columns from payments"
   ]
  },
  {
   "attachments": {},
   "cell_type": "markdown",
   "metadata": {},
   "source": [
    "To keep things compact and clear, it is useful to drop columns which do not add unnecessary information. For my analysis, I will not need `transaction_date`. So I will drop this column. The information from `transaction_date` has been copied to a datatime format in `transaction_date_dt` so I can drop the less readable column. "
   ]
  },
  {
   "cell_type": "code",
   "execution_count": 87,
   "metadata": {},
   "outputs": [],
   "source": [
    "payments.drop(columns=['transaction_date'], inplace=True)"
   ]
  },
  {
   "attachments": {},
   "cell_type": "markdown",
   "metadata": {},
   "source": [
    "I will also rename the `transaction_date_dt` column to `transaction_date` for simplicity."
   ]
  },
  {
   "cell_type": "code",
   "execution_count": 88,
   "metadata": {},
   "outputs": [
    {
     "data": {
      "text/plain": [
       "Index(['transaction_id', 'contract_id', 'client_id', 'payment_amt',\n",
       "       'payment_code', 'transaction_date'],\n",
       "      dtype='object')"
      ]
     },
     "execution_count": 88,
     "metadata": {},
     "output_type": "execute_result"
    }
   ],
   "source": [
    "payments.rename(columns={'transaction_date_dt':'transaction_date'}, inplace=True)\n",
    "payments.columns"
   ]
  },
  {
   "attachments": {},
   "cell_type": "markdown",
   "metadata": {},
   "source": [
    "Now I will write my cleaned payments data to a file in case I need to access them later."
   ]
  },
  {
   "cell_type": "code",
   "execution_count": 89,
   "metadata": {},
   "outputs": [],
   "source": [
    "payments.to_csv(\"cleaned_data/payments.csv\", index=False)"
   ]
  },
  {
   "attachments": {},
   "cell_type": "markdown",
   "metadata": {},
   "source": [
    "# Section 3: Combine the clients and payments data"
   ]
  },
  {
   "attachments": {},
   "cell_type": "markdown",
   "metadata": {},
   "source": [
    "Now that the payments and clients datasets are clean, we can combine them into one single dataframe. We can then use this data to perform exploratory data analysis. "
   ]
  },
  {
   "cell_type": "code",
   "execution_count": 90,
   "metadata": {},
   "outputs": [
    {
     "data": {
      "text/html": [
       "<div>\n",
       "<style scoped>\n",
       "    .dataframe tbody tr th:only-of-type {\n",
       "        vertical-align: middle;\n",
       "    }\n",
       "\n",
       "    .dataframe tbody tr th {\n",
       "        vertical-align: top;\n",
       "    }\n",
       "\n",
       "    .dataframe thead th {\n",
       "        text-align: right;\n",
       "    }\n",
       "</style>\n",
       "<table border=\"1\" class=\"dataframe\">\n",
       "  <thead>\n",
       "    <tr style=\"text-align: right;\">\n",
       "      <th></th>\n",
       "      <th>client_id</th>\n",
       "      <th>entity_type</th>\n",
       "      <th>entity_year_established</th>\n",
       "      <th>transaction_id</th>\n",
       "      <th>contract_id</th>\n",
       "      <th>payment_amt</th>\n",
       "      <th>payment_code</th>\n",
       "      <th>transaction_date</th>\n",
       "    </tr>\n",
       "  </thead>\n",
       "  <tbody>\n",
       "    <tr>\n",
       "      <th>0</th>\n",
       "      <td>240</td>\n",
       "      <td>Australian Private Company</td>\n",
       "      <td>1999</td>\n",
       "      <td>23556</td>\n",
       "      <td>1557</td>\n",
       "      <td>50.00</td>\n",
       "      <td>PAYMENT</td>\n",
       "      <td>2018-07-03 18:08:45</td>\n",
       "    </tr>\n",
       "    <tr>\n",
       "      <th>1</th>\n",
       "      <td>240</td>\n",
       "      <td>Australian Private Company</td>\n",
       "      <td>1999</td>\n",
       "      <td>23997</td>\n",
       "      <td>1557</td>\n",
       "      <td>1716.67</td>\n",
       "      <td>PAYMENT</td>\n",
       "      <td>2018-07-08 18:09:22</td>\n",
       "    </tr>\n",
       "    <tr>\n",
       "      <th>2</th>\n",
       "      <td>240</td>\n",
       "      <td>Australian Private Company</td>\n",
       "      <td>1999</td>\n",
       "      <td>23998</td>\n",
       "      <td>1557</td>\n",
       "      <td>64.99</td>\n",
       "      <td>PAYMENT</td>\n",
       "      <td>2018-07-08 18:09:22</td>\n",
       "    </tr>\n",
       "    <tr>\n",
       "      <th>3</th>\n",
       "      <td>240</td>\n",
       "      <td>Australian Private Company</td>\n",
       "      <td>1999</td>\n",
       "      <td>23555</td>\n",
       "      <td>1557</td>\n",
       "      <td>20050.04</td>\n",
       "      <td>PAYMENT</td>\n",
       "      <td>2018-07-03 18:08:45</td>\n",
       "    </tr>\n",
       "    <tr>\n",
       "      <th>4</th>\n",
       "      <td>11</td>\n",
       "      <td>Australian Private Company</td>\n",
       "      <td>1999</td>\n",
       "      <td>5009</td>\n",
       "      <td>220</td>\n",
       "      <td>199.99</td>\n",
       "      <td>PAYMENT</td>\n",
       "      <td>2017-09-24 18:08:12</td>\n",
       "    </tr>\n",
       "  </tbody>\n",
       "</table>\n",
       "</div>"
      ],
      "text/plain": [
       "   client_id                 entity_type  entity_year_established  \\\n",
       "0        240  Australian Private Company                     1999   \n",
       "1        240  Australian Private Company                     1999   \n",
       "2        240  Australian Private Company                     1999   \n",
       "3        240  Australian Private Company                     1999   \n",
       "4         11  Australian Private Company                     1999   \n",
       "\n",
       "   transaction_id  contract_id  payment_amt payment_code    transaction_date  \n",
       "0           23556         1557        50.00      PAYMENT 2018-07-03 18:08:45  \n",
       "1           23997         1557      1716.67      PAYMENT 2018-07-08 18:09:22  \n",
       "2           23998         1557        64.99      PAYMENT 2018-07-08 18:09:22  \n",
       "3           23555         1557     20050.04      PAYMENT 2018-07-03 18:08:45  \n",
       "4            5009          220       199.99      PAYMENT 2017-09-24 18:08:12  "
      ]
     },
     "execution_count": 90,
     "metadata": {},
     "output_type": "execute_result"
    }
   ],
   "source": [
    "df = pd.merge(clients, payments, on='client_id', how='inner')\n",
    "df.head()"
   ]
  },
  {
   "attachments": {},
   "cell_type": "markdown",
   "metadata": {},
   "source": [
    "The result for doing an inner or outer join was the same. So I chose to go along with a inner join. "
   ]
  },
  {
   "cell_type": "code",
   "execution_count": 91,
   "metadata": {},
   "outputs": [
    {
     "name": "stdout",
     "output_type": "stream",
     "text": [
      "(25557, 6) (1281, 3) (25557, 8)\n"
     ]
    }
   ],
   "source": [
    "print(payments.shape, clients.shape, df.shape)"
   ]
  },
  {
   "attachments": {},
   "cell_type": "markdown",
   "metadata": {},
   "source": [
    "I checked that the combined dataframe `df` has same number of rows as `payments` with two new columns from `clients` added. "
   ]
  },
  {
   "cell_type": "code",
   "execution_count": 92,
   "metadata": {},
   "outputs": [
    {
     "name": "stdout",
     "output_type": "stream",
     "text": [
      "<class 'pandas.core.frame.DataFrame'>\n",
      "Int64Index: 25557 entries, 0 to 25556\n",
      "Data columns (total 8 columns):\n",
      " #   Column                   Non-Null Count  Dtype         \n",
      "---  ------                   --------------  -----         \n",
      " 0   client_id                25557 non-null  int64         \n",
      " 1   entity_type              25557 non-null  object        \n",
      " 2   entity_year_established  25557 non-null  int64         \n",
      " 3   transaction_id           25557 non-null  int64         \n",
      " 4   contract_id              25557 non-null  int64         \n",
      " 5   payment_amt              25557 non-null  float64       \n",
      " 6   payment_code             25557 non-null  object        \n",
      " 7   transaction_date         25557 non-null  datetime64[ns]\n",
      "dtypes: datetime64[ns](1), float64(1), int64(4), object(2)\n",
      "memory usage: 1.8+ MB\n"
     ]
    }
   ],
   "source": [
    "df.info()"
   ]
  },
  {
   "attachments": {},
   "cell_type": "markdown",
   "metadata": {},
   "source": [
    "Further, I checked for any missing values in `df` and I did not find one. Lastly, I check for any duplicate transactions."
   ]
  },
  {
   "cell_type": "code",
   "execution_count": 93,
   "metadata": {},
   "outputs": [
    {
     "data": {
      "text/html": [
       "<div>\n",
       "<style scoped>\n",
       "    .dataframe tbody tr th:only-of-type {\n",
       "        vertical-align: middle;\n",
       "    }\n",
       "\n",
       "    .dataframe tbody tr th {\n",
       "        vertical-align: top;\n",
       "    }\n",
       "\n",
       "    .dataframe thead th {\n",
       "        text-align: right;\n",
       "    }\n",
       "</style>\n",
       "<table border=\"1\" class=\"dataframe\">\n",
       "  <thead>\n",
       "    <tr style=\"text-align: right;\">\n",
       "      <th></th>\n",
       "      <th>client_id</th>\n",
       "      <th>entity_type</th>\n",
       "      <th>entity_year_established</th>\n",
       "      <th>transaction_id</th>\n",
       "      <th>contract_id</th>\n",
       "      <th>payment_amt</th>\n",
       "      <th>payment_code</th>\n",
       "      <th>transaction_date</th>\n",
       "    </tr>\n",
       "  </thead>\n",
       "  <tbody>\n",
       "  </tbody>\n",
       "</table>\n",
       "</div>"
      ],
      "text/plain": [
       "Empty DataFrame\n",
       "Columns: [client_id, entity_type, entity_year_established, transaction_id, contract_id, payment_amt, payment_code, transaction_date]\n",
       "Index: []"
      ]
     },
     "execution_count": 93,
     "metadata": {},
     "output_type": "execute_result"
    }
   ],
   "source": [
    "df[df.duplicated(subset=['transaction_id'])]"
   ]
  },
  {
   "cell_type": "code",
   "execution_count": 94,
   "metadata": {},
   "outputs": [],
   "source": [
    "\n",
    "df.to_csv(\"cleaned_data/combined_data.csv\", index=False)"
   ]
  },
  {
   "attachments": {},
   "cell_type": "markdown",
   "metadata": {},
   "source": [
    "# Section 4: Feature engineering"
   ]
  },
  {
   "attachments": {},
   "cell_type": "markdown",
   "metadata": {},
   "source": [
    "To the data I have, I want to introduce two new features:\n",
    "1. `transaction_month`: Month of the transaction\n",
    "2. `transaction_year` : Year of the transaction\n",
    "3. `years_from_establishment`: The years from establishment of the business to transaction date."
   ]
  },
  {
   "cell_type": "code",
   "execution_count": 95,
   "metadata": {},
   "outputs": [],
   "source": [
    "new_ft = df.copy()"
   ]
  },
  {
   "attachments": {},
   "cell_type": "markdown",
   "metadata": {},
   "source": [
    "### 4.1 Transaction month and year\n",
    "Using the datetime properties, one can easily obtain the month and year of the transaction from `transaction_date`\n"
   ]
  },
  {
   "cell_type": "code",
   "execution_count": 96,
   "metadata": {},
   "outputs": [
    {
     "data": {
      "text/html": [
       "<div>\n",
       "<style scoped>\n",
       "    .dataframe tbody tr th:only-of-type {\n",
       "        vertical-align: middle;\n",
       "    }\n",
       "\n",
       "    .dataframe tbody tr th {\n",
       "        vertical-align: top;\n",
       "    }\n",
       "\n",
       "    .dataframe thead th {\n",
       "        text-align: right;\n",
       "    }\n",
       "</style>\n",
       "<table border=\"1\" class=\"dataframe\">\n",
       "  <thead>\n",
       "    <tr style=\"text-align: right;\">\n",
       "      <th></th>\n",
       "      <th>client_id</th>\n",
       "      <th>entity_type</th>\n",
       "      <th>entity_year_established</th>\n",
       "      <th>transaction_id</th>\n",
       "      <th>contract_id</th>\n",
       "      <th>payment_amt</th>\n",
       "      <th>payment_code</th>\n",
       "      <th>transaction_date</th>\n",
       "      <th>transaction_year</th>\n",
       "    </tr>\n",
       "  </thead>\n",
       "  <tbody>\n",
       "    <tr>\n",
       "      <th>0</th>\n",
       "      <td>240</td>\n",
       "      <td>Australian Private Company</td>\n",
       "      <td>1999</td>\n",
       "      <td>23556</td>\n",
       "      <td>1557</td>\n",
       "      <td>50.00</td>\n",
       "      <td>PAYMENT</td>\n",
       "      <td>2018-07-03 18:08:45</td>\n",
       "      <td>2018</td>\n",
       "    </tr>\n",
       "    <tr>\n",
       "      <th>1</th>\n",
       "      <td>240</td>\n",
       "      <td>Australian Private Company</td>\n",
       "      <td>1999</td>\n",
       "      <td>23997</td>\n",
       "      <td>1557</td>\n",
       "      <td>1716.67</td>\n",
       "      <td>PAYMENT</td>\n",
       "      <td>2018-07-08 18:09:22</td>\n",
       "      <td>2018</td>\n",
       "    </tr>\n",
       "    <tr>\n",
       "      <th>2</th>\n",
       "      <td>240</td>\n",
       "      <td>Australian Private Company</td>\n",
       "      <td>1999</td>\n",
       "      <td>23998</td>\n",
       "      <td>1557</td>\n",
       "      <td>64.99</td>\n",
       "      <td>PAYMENT</td>\n",
       "      <td>2018-07-08 18:09:22</td>\n",
       "      <td>2018</td>\n",
       "    </tr>\n",
       "    <tr>\n",
       "      <th>3</th>\n",
       "      <td>240</td>\n",
       "      <td>Australian Private Company</td>\n",
       "      <td>1999</td>\n",
       "      <td>23555</td>\n",
       "      <td>1557</td>\n",
       "      <td>20050.04</td>\n",
       "      <td>PAYMENT</td>\n",
       "      <td>2018-07-03 18:08:45</td>\n",
       "      <td>2018</td>\n",
       "    </tr>\n",
       "    <tr>\n",
       "      <th>4</th>\n",
       "      <td>11</td>\n",
       "      <td>Australian Private Company</td>\n",
       "      <td>1999</td>\n",
       "      <td>5009</td>\n",
       "      <td>220</td>\n",
       "      <td>199.99</td>\n",
       "      <td>PAYMENT</td>\n",
       "      <td>2017-09-24 18:08:12</td>\n",
       "      <td>2017</td>\n",
       "    </tr>\n",
       "  </tbody>\n",
       "</table>\n",
       "</div>"
      ],
      "text/plain": [
       "   client_id                 entity_type  entity_year_established  \\\n",
       "0        240  Australian Private Company                     1999   \n",
       "1        240  Australian Private Company                     1999   \n",
       "2        240  Australian Private Company                     1999   \n",
       "3        240  Australian Private Company                     1999   \n",
       "4         11  Australian Private Company                     1999   \n",
       "\n",
       "   transaction_id  contract_id  payment_amt payment_code    transaction_date  \\\n",
       "0           23556         1557        50.00      PAYMENT 2018-07-03 18:08:45   \n",
       "1           23997         1557      1716.67      PAYMENT 2018-07-08 18:09:22   \n",
       "2           23998         1557        64.99      PAYMENT 2018-07-08 18:09:22   \n",
       "3           23555         1557     20050.04      PAYMENT 2018-07-03 18:08:45   \n",
       "4            5009          220       199.99      PAYMENT 2017-09-24 18:08:12   \n",
       "\n",
       "   transaction_year  \n",
       "0              2018  \n",
       "1              2018  \n",
       "2              2018  \n",
       "3              2018  \n",
       "4              2017  "
      ]
     },
     "execution_count": 96,
     "metadata": {},
     "output_type": "execute_result"
    }
   ],
   "source": [
    "new_ft['transaction_year'] = new_ft.transaction_date.dt.year\n",
    "new_ft.head()"
   ]
  },
  {
   "attachments": {},
   "cell_type": "markdown",
   "metadata": {},
   "source": [
    "I wanted the transaction_month to be of the format \"MM-YYYY\" so I used the following method: "
   ]
  },
  {
   "cell_type": "code",
   "execution_count": 97,
   "metadata": {},
   "outputs": [
    {
     "data": {
      "text/html": [
       "<div>\n",
       "<style scoped>\n",
       "    .dataframe tbody tr th:only-of-type {\n",
       "        vertical-align: middle;\n",
       "    }\n",
       "\n",
       "    .dataframe tbody tr th {\n",
       "        vertical-align: top;\n",
       "    }\n",
       "\n",
       "    .dataframe thead th {\n",
       "        text-align: right;\n",
       "    }\n",
       "</style>\n",
       "<table border=\"1\" class=\"dataframe\">\n",
       "  <thead>\n",
       "    <tr style=\"text-align: right;\">\n",
       "      <th></th>\n",
       "      <th>client_id</th>\n",
       "      <th>entity_type</th>\n",
       "      <th>entity_year_established</th>\n",
       "      <th>transaction_id</th>\n",
       "      <th>contract_id</th>\n",
       "      <th>payment_amt</th>\n",
       "      <th>payment_code</th>\n",
       "      <th>transaction_date</th>\n",
       "      <th>transaction_year</th>\n",
       "      <th>transaction_month</th>\n",
       "    </tr>\n",
       "  </thead>\n",
       "  <tbody>\n",
       "    <tr>\n",
       "      <th>0</th>\n",
       "      <td>240</td>\n",
       "      <td>Australian Private Company</td>\n",
       "      <td>1999</td>\n",
       "      <td>23556</td>\n",
       "      <td>1557</td>\n",
       "      <td>50.00</td>\n",
       "      <td>PAYMENT</td>\n",
       "      <td>2018-07-03 18:08:45</td>\n",
       "      <td>2018</td>\n",
       "      <td>2018-07</td>\n",
       "    </tr>\n",
       "    <tr>\n",
       "      <th>1</th>\n",
       "      <td>240</td>\n",
       "      <td>Australian Private Company</td>\n",
       "      <td>1999</td>\n",
       "      <td>23997</td>\n",
       "      <td>1557</td>\n",
       "      <td>1716.67</td>\n",
       "      <td>PAYMENT</td>\n",
       "      <td>2018-07-08 18:09:22</td>\n",
       "      <td>2018</td>\n",
       "      <td>2018-07</td>\n",
       "    </tr>\n",
       "    <tr>\n",
       "      <th>2</th>\n",
       "      <td>240</td>\n",
       "      <td>Australian Private Company</td>\n",
       "      <td>1999</td>\n",
       "      <td>23998</td>\n",
       "      <td>1557</td>\n",
       "      <td>64.99</td>\n",
       "      <td>PAYMENT</td>\n",
       "      <td>2018-07-08 18:09:22</td>\n",
       "      <td>2018</td>\n",
       "      <td>2018-07</td>\n",
       "    </tr>\n",
       "    <tr>\n",
       "      <th>3</th>\n",
       "      <td>240</td>\n",
       "      <td>Australian Private Company</td>\n",
       "      <td>1999</td>\n",
       "      <td>23555</td>\n",
       "      <td>1557</td>\n",
       "      <td>20050.04</td>\n",
       "      <td>PAYMENT</td>\n",
       "      <td>2018-07-03 18:08:45</td>\n",
       "      <td>2018</td>\n",
       "      <td>2018-07</td>\n",
       "    </tr>\n",
       "    <tr>\n",
       "      <th>4</th>\n",
       "      <td>11</td>\n",
       "      <td>Australian Private Company</td>\n",
       "      <td>1999</td>\n",
       "      <td>5009</td>\n",
       "      <td>220</td>\n",
       "      <td>199.99</td>\n",
       "      <td>PAYMENT</td>\n",
       "      <td>2017-09-24 18:08:12</td>\n",
       "      <td>2017</td>\n",
       "      <td>2017-09</td>\n",
       "    </tr>\n",
       "  </tbody>\n",
       "</table>\n",
       "</div>"
      ],
      "text/plain": [
       "   client_id                 entity_type  entity_year_established  \\\n",
       "0        240  Australian Private Company                     1999   \n",
       "1        240  Australian Private Company                     1999   \n",
       "2        240  Australian Private Company                     1999   \n",
       "3        240  Australian Private Company                     1999   \n",
       "4         11  Australian Private Company                     1999   \n",
       "\n",
       "   transaction_id  contract_id  payment_amt payment_code    transaction_date  \\\n",
       "0           23556         1557        50.00      PAYMENT 2018-07-03 18:08:45   \n",
       "1           23997         1557      1716.67      PAYMENT 2018-07-08 18:09:22   \n",
       "2           23998         1557        64.99      PAYMENT 2018-07-08 18:09:22   \n",
       "3           23555         1557     20050.04      PAYMENT 2018-07-03 18:08:45   \n",
       "4            5009          220       199.99      PAYMENT 2017-09-24 18:08:12   \n",
       "\n",
       "   transaction_year transaction_month  \n",
       "0              2018           2018-07  \n",
       "1              2018           2018-07  \n",
       "2              2018           2018-07  \n",
       "3              2018           2018-07  \n",
       "4              2017           2017-09  "
      ]
     },
     "execution_count": 97,
     "metadata": {},
     "output_type": "execute_result"
    }
   ],
   "source": [
    "new_ft['transaction_month'] = new_ft['transaction_date'].dt.to_period('M')\n",
    "new_ft.head()"
   ]
  },
  {
   "attachments": {},
   "cell_type": "markdown",
   "metadata": {},
   "source": [
    "I checked by eye that the transaction_month and transaction_year are accurate for a sample of five transactions. I then copy the final dataframe with all the new features to a new file."
   ]
  },
  {
   "attachments": {},
   "cell_type": "markdown",
   "metadata": {},
   "source": [
    "### Years from establishment"
   ]
  },
  {
   "cell_type": "code",
   "execution_count": 98,
   "metadata": {},
   "outputs": [],
   "source": [
    "new_ft['years_from_establishment'] = new_ft['transaction_year'] - new_ft['entity_year_established']"
   ]
  },
  {
   "cell_type": "code",
   "execution_count": 99,
   "metadata": {},
   "outputs": [],
   "source": [
    "new_ft.to_csv(\"generated_data/final_df.csv\", index=False)"
   ]
  }
 ],
 "metadata": {
  "kernelspec": {
   "display_name": "datasci",
   "language": "python",
   "name": "python3"
  },
  "language_info": {
   "codemirror_mode": {
    "name": "ipython",
    "version": 3
   },
   "file_extension": ".py",
   "mimetype": "text/x-python",
   "name": "python",
   "nbconvert_exporter": "python",
   "pygments_lexer": "ipython3",
   "version": "3.10.9"
  },
  "orig_nbformat": 4,
  "vscode": {
   "interpreter": {
    "hash": "b20da909b4f68bfb9dfc7528826151e4d1eda3b4164fff1f0822ecd1fb5641a2"
   }
  }
 },
 "nbformat": 4,
 "nbformat_minor": 2
}
